{
 "cells": [
  {
   "cell_type": "markdown",
   "id": "b4b0c90a-8921-47a4-9265-f43ecbbec93f",
   "metadata": {},
   "source": [
    "# Investigating the relationship between food deserts and COVID19 deaths in Denver"
   ]
  },
  {
   "cell_type": "markdown",
   "id": "1dddbab4-29a3-4d0e-8034-b44297076fa6",
   "metadata": {},
   "source": [
    "## Introduction"
   ]
  },
  {
   "cell_type": "markdown",
   "id": "b62dba05-3b8d-44f5-b2c5-8dcc783b81e8",
   "metadata": {},
   "source": []
  },
  {
   "cell_type": "markdown",
   "id": "e079d7a6-851a-4fdc-ac57-f6bced7cd766",
   "metadata": {},
   "source": [
    "## Data sources"
   ]
  },
  {
   "cell_type": "markdown",
   "id": "cc3f93d1-7828-4814-a66d-87c0d0811a53",
   "metadata": {},
   "source": [
    "Download and import all dependencies"
   ]
  },
  {
   "cell_type": "code",
   "execution_count": 1,
   "id": "ff76f03c-1f89-4051-bc00-4d01a02a64c3",
   "metadata": {},
   "outputs": [
    {
     "name": "stdout",
     "output_type": "stream",
     "text": [
      "Collecting bs4\n",
      "  Downloading https://files.pythonhosted.org/packages/10/ed/7e8b97591f6f456174139ec089c769f89a94a1a4025fe967691de971f314/bs4-0.0.1.tar.gz\n",
      "Collecting beautifulsoup4 (from bs4)\n",
      "\u001b[?25l  Downloading https://files.pythonhosted.org/packages/d1/41/e6495bd7d3781cee623ce23ea6ac73282a373088fcd0ddc809a047b18eae/beautifulsoup4-4.9.3-py3-none-any.whl (115kB)\n",
      "\u001b[K     |████████████████████████████████| 122kB 16.6MB/s eta 0:00:01\n",
      "\u001b[?25hCollecting soupsieve>1.2; python_version >= \"3.0\" (from beautifulsoup4->bs4)\n",
      "  Downloading https://files.pythonhosted.org/packages/36/69/d82d04022f02733bf9a72bc3b96332d360c0c5307096d76f6bb7489f7e57/soupsieve-2.2.1-py3-none-any.whl\n",
      "Building wheels for collected packages: bs4\n",
      "  Building wheel for bs4 (setup.py) ... \u001b[?25ldone\n",
      "\u001b[?25h  Stored in directory: /home/jupyterlab/.cache/pip/wheels/a0/b0/b2/4f80b9456b87abedbc0bf2d52235414c3467d8889be38dd472\n",
      "Successfully built bs4\n",
      "Installing collected packages: soupsieve, beautifulsoup4, bs4\n",
      "Successfully installed beautifulsoup4-4.9.3 bs4-0.0.1 soupsieve-2.2.1\n",
      "Collecting package metadata (current_repodata.json): done\n",
      "Solving environment: done\n",
      "\n",
      "## Package Plan ##\n",
      "\n",
      "  environment location: /home/jupyterlab/conda/envs/python\n",
      "\n",
      "  added / updated specs:\n",
      "    - geopy\n",
      "\n",
      "\n",
      "The following packages will be downloaded:\n",
      "\n",
      "    package                    |            build\n",
      "    ---------------------------|-----------------\n",
      "    ca-certificates-2020.12.5  |       ha878542_0         137 KB  conda-forge\n",
      "    geographiclib-1.50         |             py_0          34 KB  conda-forge\n",
      "    geopy-2.1.0                |     pyhd3deb0d_0          64 KB  conda-forge\n",
      "    ------------------------------------------------------------\n",
      "                                           Total:         235 KB\n",
      "\n",
      "The following NEW packages will be INSTALLED:\n",
      "\n",
      "  geographiclib      conda-forge/noarch::geographiclib-1.50-py_0\n",
      "  geopy              conda-forge/noarch::geopy-2.1.0-pyhd3deb0d_0\n",
      "\n",
      "The following packages will be SUPERSEDED by a higher-priority channel:\n",
      "\n",
      "  ca-certificates    pkgs/main::ca-certificates-2021.4.13-~ --> conda-forge::ca-certificates-2020.12.5-ha878542_0\n",
      "\n",
      "\n",
      "\n",
      "Downloading and Extracting Packages\n",
      "ca-certificates-2020 | 137 KB    | ##################################### | 100% \n",
      "geopy-2.1.0          | 64 KB     | ##################################### | 100% \n",
      "geographiclib-1.50   | 34 KB     | ##################################### | 100% \n",
      "Preparing transaction: done\n",
      "Verifying transaction: done\n",
      "Executing transaction: done\n",
      "Libraries imported.\n"
     ]
    }
   ],
   "source": [
    "import numpy as np # library to handle data in a vectorized manner\n",
    "\n",
    "import pandas as pd # library for data analysis\n",
    "pd.set_option('display.max_columns', None)\n",
    "pd.set_option('display.max_rows', None)\n",
    "\n",
    "!pip install bs4 # Comment out when installed\n",
    "from bs4 import BeautifulSoup # library to scrape website\n",
    "\n",
    "import json # library to handle JSON files\n",
    "\n",
    "!conda install -c conda-forge geopy --yes # install geopy\n",
    "from geopy.geocoders import Nominatim # convert an address into latitude and longitude values\n",
    "\n",
    "import requests # library to handle requests\n",
    "from pandas.io.json import json_normalize # tranform JSON file into a pandas dataframe\n",
    "\n",
    "# Matplotlib and associated plotting modules\n",
    "import matplotlib.cm as cm\n",
    "import matplotlib.colors as colors\n",
    "\n",
    "# import k-means from sklearn for clustering analysis\n",
    "from sklearn.cluster import KMeans\n",
    "\n",
    "#!conda install -c conda-forge folium=0.5.0 --yes # uncomment this line if you haven't completed the Foursquare API lab\n",
    "import folium # map rendering library\n",
    "\n",
    "print('Libraries imported.')"
   ]
  },
  {
   "cell_type": "markdown",
   "id": "bb10256b-c338-4b6e-8935-47f783d611be",
   "metadata": {},
   "source": [
    "### Get data on Denver neighborhoods"
   ]
  },
  {
   "cell_type": "code",
   "execution_count": 23,
   "id": "df0e747d-b000-4bde-b0e6-3ad72802e04c",
   "metadata": {},
   "outputs": [
    {
     "name": "stdout",
     "output_type": "stream",
     "text": [
      "Requirement already satisfied: pyshp in /home/jupyterlab/conda/envs/python/lib/python3.6/site-packages (2.1.3)\n"
     ]
    }
   ],
   "source": [
    "# Download statistical neighborhood shapefile\n",
    "import wget\n",
    "url = 'https://www.denvergov.org/media/gis/DataCatalog/statistical_neighborhoods/shape/statistical_neighborhoods.zip'\n",
    "wget.download(url)\n",
    "\n",
    "# Unzip folder to get files\n",
    "from zipfile import ZipFile\n",
    "with ZipFile('statistical_neighborhoods.zip', 'r') as zipObj:\n",
    "   # Extract all the contents of zip file in current directory\n",
    "   zipObj.extractall()\n",
    "\n",
    "# Convert shapefile to geojson for folium usage\n",
    "!pip install pyshp\n",
    "import shapefile\n",
    "Denver_statneigh_geojson = shapefile.Reader(\"statistical_neighborhoods.zip\").__geo_interface__"
   ]
  },
  {
   "cell_type": "code",
   "execution_count": null,
   "id": "30d1c7ed-82a4-4988-ae0d-6036e14d1308",
   "metadata": {},
   "outputs": [],
   "source": [
    "# !pip install shapely\n",
    "import os\n",
    "import json\n",
    "from shapely.geometry import shape, Point, Polygon\n",
    "\n",
    "def read_geojson(filepath):\n",
    "    with open(filepath, 'r') as f:\n",
    "        js = json.load(f)\n",
    "    return js\n",
    "\n",
    "# get boundary from a geojson file\n",
    "# output format: (minx, miny, maxx, maxy) tuple (float values) \n",
    "def get_boundary_from_geojson(geojson):\n",
    "    js = read_geojson(geojson) if isinstance(geojson, str) else geojson\n",
    "    polygon = [shape(feature['geometry']).bounds for feature in js['features']]\n",
    "\n",
    "    boundary = []\n",
    "    for p in polygon:\n",
    "        boundary.append((p[0], p[1]))\n",
    "        boundary.append((p[2], p[3]))\n",
    "    return Polygon(boundary).bounds\n",
    "\n",
    "# Given a point, check whether it's within the boundaries defined by GeoJSON file\n",
    "# input: point = (longtitude, latitude)\n",
    "# output: True if in polygon of geojson file\n",
    "def is_in_geojson(geojson, point, verbose=False):    \n",
    "    js = read_geojson(geojson) if isinstance(geojson, str) else geojson\n",
    "    pos = point if isinstance(point, Point) else Point(point)\n",
    "\n",
    "    for feature in js['features']:\n",
    "        polygon = shape(feature['geometry'])\n",
    "        if polygon.contains(pos):\n",
    "            if verbose: print('Found in borough: ', feature['properties'])\n",
    "            return True\n",
    "    return False\n",
    "\n",
    "# load GeoJSON file containing montreal boroughs\n",
    "geoJson = load_dict(streaming_body_1) if From_IBM_Cloud else os.path.join(os.getcwd(), 'montreal_shapefile.geojson')\n",
    "# get the boundaries of Montreal island\n",
    "montreal_boundary = get_boundary_from_geojson(geoJson)\n",
    "print(f'The boundaries of Montreal island: {montreal_boundary}\\n')\n",
    "\n",
    "# check whether montreal center is on Montreal island\n",
    "point = Point((montreal_center[1], montreal_center[0]))\n",
    "print(f'Montreal center ({point.x}, {point.y}) in geojson file: {is_in_geojson(geoJson, point, True)}')"
   ]
  },
  {
   "cell_type": "markdown",
   "id": "b916034d-3c47-4e0e-b672-c0fe7965d2bd",
   "metadata": {},
   "source": [
    "### Make a map of Denver neighborhoods"
   ]
  },
  {
   "cell_type": "code",
   "execution_count": 2,
   "id": "81b1fe51-1733-4717-806b-69cb21f885f4",
   "metadata": {},
   "outputs": [
    {
     "name": "stdout",
     "output_type": "stream",
     "text": [
      "The geograpical coordinate of Denver, Colorado are 39.7392364, -104.9848623.\n"
     ]
    }
   ],
   "source": [
    "# Use geopy to get a user_agent and data for Denver\n",
    "address = 'Denver, Colorado'\n",
    "geolocator = Nominatim(user_agent=\"Denver_explorer\")\n",
    "location = geolocator.geocode(address)\n",
    "latitude = location.latitude\n",
    "longitude = location.longitude\n",
    "print('The geograpical coordinate of Denver, Colorado are {}, {}.'.format(latitude, longitude))"
   ]
  },
  {
   "cell_type": "code",
   "execution_count": 3,
   "id": "52a66505-75c7-455e-9633-e0a57ffe6ba0",
   "metadata": {
    "tags": []
   },
   "outputs": [
    {
     "data": {
      "text/html": [
       "<div style=\"width:100%;\"><div style=\"position:relative;width:100%;height:0;padding-bottom:60%;\"><span style=\"color:#565656\">Make this Notebook Trusted to load map: File -> Trust Notebook</span><iframe src=\"about:blank\" style=\"position:absolute;width:100%;height:100%;left:0;top:0;border:none !important;\" data-html=%3C%21DOCTYPE%20html%3E%0A%3Chead%3E%20%20%20%20%0A%20%20%20%20%3Cmeta%20http-equiv%3D%22content-type%22%20content%3D%22text/html%3B%20charset%3DUTF-8%22%20/%3E%0A%20%20%20%20%3Cscript%3EL_PREFER_CANVAS%20%3D%20false%3B%20L_NO_TOUCH%20%3D%20false%3B%20L_DISABLE_3D%20%3D%20false%3B%3C/script%3E%0A%20%20%20%20%3Cscript%20src%3D%22https%3A//cdn.jsdelivr.net/npm/leaflet%401.2.0/dist/leaflet.js%22%3E%3C/script%3E%0A%20%20%20%20%3Cscript%20src%3D%22https%3A//ajax.googleapis.com/ajax/libs/jquery/1.11.1/jquery.min.js%22%3E%3C/script%3E%0A%20%20%20%20%3Cscript%20src%3D%22https%3A//maxcdn.bootstrapcdn.com/bootstrap/3.2.0/js/bootstrap.min.js%22%3E%3C/script%3E%0A%20%20%20%20%3Cscript%20src%3D%22https%3A//cdnjs.cloudflare.com/ajax/libs/Leaflet.awesome-markers/2.0.2/leaflet.awesome-markers.js%22%3E%3C/script%3E%0A%20%20%20%20%3Clink%20rel%3D%22stylesheet%22%20href%3D%22https%3A//cdn.jsdelivr.net/npm/leaflet%401.2.0/dist/leaflet.css%22/%3E%0A%20%20%20%20%3Clink%20rel%3D%22stylesheet%22%20href%3D%22https%3A//maxcdn.bootstrapcdn.com/bootstrap/3.2.0/css/bootstrap.min.css%22/%3E%0A%20%20%20%20%3Clink%20rel%3D%22stylesheet%22%20href%3D%22https%3A//maxcdn.bootstrapcdn.com/bootstrap/3.2.0/css/bootstrap-theme.min.css%22/%3E%0A%20%20%20%20%3Clink%20rel%3D%22stylesheet%22%20href%3D%22https%3A//maxcdn.bootstrapcdn.com/font-awesome/4.6.3/css/font-awesome.min.css%22/%3E%0A%20%20%20%20%3Clink%20rel%3D%22stylesheet%22%20href%3D%22https%3A//cdnjs.cloudflare.com/ajax/libs/Leaflet.awesome-markers/2.0.2/leaflet.awesome-markers.css%22/%3E%0A%20%20%20%20%3Clink%20rel%3D%22stylesheet%22%20href%3D%22https%3A//rawgit.com/python-visualization/folium/master/folium/templates/leaflet.awesome.rotate.css%22/%3E%0A%20%20%20%20%3Cstyle%3Ehtml%2C%20body%20%7Bwidth%3A%20100%25%3Bheight%3A%20100%25%3Bmargin%3A%200%3Bpadding%3A%200%3B%7D%3C/style%3E%0A%20%20%20%20%3Cstyle%3E%23map%20%7Bposition%3Aabsolute%3Btop%3A0%3Bbottom%3A0%3Bright%3A0%3Bleft%3A0%3B%7D%3C/style%3E%0A%20%20%20%20%0A%20%20%20%20%20%20%20%20%20%20%20%20%3Cstyle%3E%20%23map_9d31abda0a9343e3b2908403ae307eda%20%7B%0A%20%20%20%20%20%20%20%20%20%20%20%20%20%20%20%20position%20%3A%20relative%3B%0A%20%20%20%20%20%20%20%20%20%20%20%20%20%20%20%20width%20%3A%20100.0%25%3B%0A%20%20%20%20%20%20%20%20%20%20%20%20%20%20%20%20height%3A%20100.0%25%3B%0A%20%20%20%20%20%20%20%20%20%20%20%20%20%20%20%20left%3A%200.0%25%3B%0A%20%20%20%20%20%20%20%20%20%20%20%20%20%20%20%20top%3A%200.0%25%3B%0A%20%20%20%20%20%20%20%20%20%20%20%20%20%20%20%20%7D%0A%20%20%20%20%20%20%20%20%20%20%20%20%3C/style%3E%0A%20%20%20%20%20%20%20%20%0A%3C/head%3E%0A%3Cbody%3E%20%20%20%20%0A%20%20%20%20%0A%20%20%20%20%20%20%20%20%20%20%20%20%3Cdiv%20class%3D%22folium-map%22%20id%3D%22map_9d31abda0a9343e3b2908403ae307eda%22%20%3E%3C/div%3E%0A%20%20%20%20%20%20%20%20%0A%3C/body%3E%0A%3Cscript%3E%20%20%20%20%0A%20%20%20%20%0A%0A%20%20%20%20%20%20%20%20%20%20%20%20%0A%20%20%20%20%20%20%20%20%20%20%20%20%20%20%20%20var%20bounds%20%3D%20null%3B%0A%20%20%20%20%20%20%20%20%20%20%20%20%0A%0A%20%20%20%20%20%20%20%20%20%20%20%20var%20map_9d31abda0a9343e3b2908403ae307eda%20%3D%20L.map%28%0A%20%20%20%20%20%20%20%20%20%20%20%20%20%20%20%20%20%20%20%20%20%20%20%20%20%20%20%20%20%20%20%20%20%20%27map_9d31abda0a9343e3b2908403ae307eda%27%2C%0A%20%20%20%20%20%20%20%20%20%20%20%20%20%20%20%20%20%20%20%20%20%20%20%20%20%20%20%20%20%20%20%20%20%20%7Bcenter%3A%20%5B39.7392364%2C-104.9848623%5D%2C%0A%20%20%20%20%20%20%20%20%20%20%20%20%20%20%20%20%20%20%20%20%20%20%20%20%20%20%20%20%20%20%20%20%20%20zoom%3A%2010%2C%0A%20%20%20%20%20%20%20%20%20%20%20%20%20%20%20%20%20%20%20%20%20%20%20%20%20%20%20%20%20%20%20%20%20%20maxBounds%3A%20bounds%2C%0A%20%20%20%20%20%20%20%20%20%20%20%20%20%20%20%20%20%20%20%20%20%20%20%20%20%20%20%20%20%20%20%20%20%20layers%3A%20%5B%5D%2C%0A%20%20%20%20%20%20%20%20%20%20%20%20%20%20%20%20%20%20%20%20%20%20%20%20%20%20%20%20%20%20%20%20%20%20worldCopyJump%3A%20false%2C%0A%20%20%20%20%20%20%20%20%20%20%20%20%20%20%20%20%20%20%20%20%20%20%20%20%20%20%20%20%20%20%20%20%20%20crs%3A%20L.CRS.EPSG3857%0A%20%20%20%20%20%20%20%20%20%20%20%20%20%20%20%20%20%20%20%20%20%20%20%20%20%20%20%20%20%20%20%20%20%7D%29%3B%0A%20%20%20%20%20%20%20%20%20%20%20%20%0A%20%20%20%20%20%20%20%20%0A%20%20%20%20%0A%20%20%20%20%20%20%20%20%20%20%20%20var%20tile_layer_ce9c8cdd62c340c7b9672cad389d0d2b%20%3D%20L.tileLayer%28%0A%20%20%20%20%20%20%20%20%20%20%20%20%20%20%20%20%27https%3A//%7Bs%7D.tile.openstreetmap.org/%7Bz%7D/%7Bx%7D/%7By%7D.png%27%2C%0A%20%20%20%20%20%20%20%20%20%20%20%20%20%20%20%20%7B%0A%20%20%22attribution%22%3A%20null%2C%0A%20%20%22detectRetina%22%3A%20false%2C%0A%20%20%22maxZoom%22%3A%2018%2C%0A%20%20%22minZoom%22%3A%201%2C%0A%20%20%22noWrap%22%3A%20false%2C%0A%20%20%22subdomains%22%3A%20%22abc%22%0A%7D%0A%20%20%20%20%20%20%20%20%20%20%20%20%20%20%20%20%29.addTo%28map_9d31abda0a9343e3b2908403ae307eda%29%3B%0A%20%20%20%20%20%20%20%20%0A%3C/script%3E onload=\"this.contentDocument.open();this.contentDocument.write(    decodeURIComponent(this.getAttribute('data-html')));this.contentDocument.close();\" allowfullscreen webkitallowfullscreen mozallowfullscreen></iframe></div></div>"
      ],
      "text/plain": [
       "<folium.folium.Map at 0x7f7c14794f98>"
      ]
     },
     "execution_count": 3,
     "metadata": {},
     "output_type": "execute_result"
    }
   ],
   "source": [
    "# create map of Denver using latitude and longitude values\n",
    "map_Denver = folium.Map(location=[latitude, longitude], zoom_start=10)\n",
    "map_Denver\n",
    "\n",
    "# add markers to map\n",
    "for lat, lng, borough, neighborhood in zip(TorNeighdf_full['Latitude'], TorNeighdf_full['Longitude'], TorNeighdf_full['Borough'], TorNeighdf_full['Neighborhood']):\n",
    "    label = '{}, {}'.format(neighborhood, borough)\n",
    "    label = folium.Popup(label, parse_html=True)\n",
    "    folium.CircleMarker(\n",
    "        [lat, lng],\n",
    "        radius=5,\n",
    "        popup=label,\n",
    "        color='blue',\n",
    "        fill=True,\n",
    "        fill_color='#3186cc',\n",
    "        fill_opacity=0.7,\n",
    "        parse_html=False).add_to(map_toronto)"
   ]
  },
  {
   "cell_type": "markdown",
   "id": "1350a59b-a896-4307-b6d9-361f62435827",
   "metadata": {
    "tags": []
   },
   "source": [
    "Denver has \"statistical neighborhood\" boundaries that are available at https://www.denvergov.org/opendata/dataset/city-and-county-of-denver-statistical-neighborhoods with various filetypes and metadata. We will download the shapefile and convert to GeoJSON to use with folium."
   ]
  },
  {
   "cell_type": "markdown",
   "id": "f03e6679-52de-4fb5-ab15-beb9f80a16b3",
   "metadata": {},
   "source": [
    "### Generate candidate neighborhoods for food desert analysis"
   ]
  },
  {
   "cell_type": "markdown",
   "id": "73e80245-9c24-44b5-a242-e5d3bcfb51e5",
   "metadata": {},
   "source": [
    "We will use a popular hexagon honeycomb grid on map, each grid of cell represents a candidate of interest, the length of side is 10003√ meters, it covers around area of 0.87 square kilometers. Since we only focus on Montreal island, we will calculate the honeycomb grid covering the island only.\n",
    "\n",
    "Firstly, we will find the latitude & longitude of Montreal city center using Google Geocoding API."
   ]
  },
  {
   "cell_type": "markdown",
   "id": "2ef94bd5-244b-4cb4-8bcd-72d930370c01",
   "metadata": {},
   "source": [
    "Next, Montreal sits on an island, we only focus on the area in the Montreal island, so try to find the boundary of Montreal island first.\n",
    "We download Montreal shapefile (in geojson format) from Carto which defines boundaries of boroughs and municipalities on Montreal island.\n",
    "\n",
    "When we generate candidate hexagon grid, we will limit the hexagons within island's boundary. So we will define several convenient methods first."
   ]
  },
  {
   "cell_type": "code",
   "execution_count": null,
   "id": "5af8b77d-761d-4231-bf66-dc77111cf802",
   "metadata": {
    "tags": []
   },
   "outputs": [],
   "source": [
    "# Suppress warnings\n",
    "import warnings\n",
    "warnings.filterwarnings('ignore')\n",
    "warnings.simplefilter('ignore')"
   ]
  },
  {
   "cell_type": "code",
   "execution_count": null,
   "id": "888464f3-3209-4d78-b4d1-7ba7da14cd16",
   "metadata": {},
   "outputs": [],
   "source": [
    "def load_dict(fileobject):\n",
    "    '''Load the file contents into a Python dict'''\n",
    "    text = fileobject.read()\n",
    "    dictformat = json.loads(text)\n",
    "    return dictformat"
   ]
  },
  {
   "cell_type": "markdown",
   "id": "04e234fe-4217-4f49-aebe-1f0fd0eb65ad",
   "metadata": {},
   "source": [
    "### Convert neighborhood shape file to GeoJSON and import into folium"
   ]
  },
  {
   "cell_type": "code",
   "execution_count": null,
   "id": "a4671808-7bfe-443c-a754-7aa9ebd5d519",
   "metadata": {},
   "outputs": [],
   "source": []
  },
  {
   "cell_type": "code",
   "execution_count": null,
   "id": "7deba843-9484-4839-93d9-4ab94972b0dc",
   "metadata": {},
   "outputs": [],
   "source": [
    "Looks good.\n",
    "\n",
    "But we also can notice it uses latitude and longitude degrees(WGS84 spherical coordinate system) in the geojson definition file, not the common metric unit - meter or kilometer which is UTM Cartesian coordinate system (X/Y coordinates in meters).\n",
    "\n",
    "So we will create several methods to convert latitude and longitude degrees into meters and vice versa."
   ]
  },
  {
   "cell_type": "code",
   "execution_count": null,
   "id": "ef0692a4-0a97-48e1-87a8-6a6f22d99c4c",
   "metadata": {},
   "outputs": [],
   "source": [
    "# !pip install shapely\n",
    "import shapely.geometry\n",
    "\n",
    "# !pip install pyproj\n",
    "import pyproj\n",
    "\n",
    "import math\n",
    "\n",
    "def lonlat_to_xy(lon, lat):\n",
    "    proj_latlon = pyproj.Proj(proj='latlong',datum='WGS84')\n",
    "    proj_xy = pyproj.Proj(proj=\"utm\", zone=18, datum='WGS84')\n",
    "    xy = pyproj.transform(proj_latlon, proj_xy, lon, lat)\n",
    "    return xy[0], xy[1]\n",
    "\n",
    "def xy_to_lonlat(x, y):\n",
    "    proj_latlon = pyproj.Proj(proj='latlong',datum='WGS84')\n",
    "    proj_xy = pyproj.Proj(proj=\"utm\", zone=18, datum='WGS84')\n",
    "    lonlat = pyproj.transform(proj_xy, proj_latlon, x, y)\n",
    "    return lonlat[0], lonlat[1]\n",
    "\n",
    "def calc_xy_distance(x1, y1, x2, y2):\n",
    "    dx = x2 - x1\n",
    "    dy = y2 - y1\n",
    "    return math.sqrt(dx*dx + dy*dy)\n",
    "\n",
    "def calc_lonlat_distance(lon1, lat1, lon2, lat2):\n",
    "    x1, y1 = lonlat_to_xy(lon1, lat1)\n",
    "    x2, y2 = lonlat_to_xy(lon2, lat2)\n",
    "    return calc_xy_distance(x1, y1, x2, y2)\n",
    "\n",
    "print('Coordinate transformation check')\n",
    "print('-------------------------------')\n",
    "print('Montreal center longitude = {}, latitude = {}'.format(montreal_center[1], montreal_center[0]))\n",
    "x, y = lonlat_to_xy(montreal_center[1], montreal_center[0])\n",
    "print('Montreal center UTM X = {}, Y = {}'.format(x, y))\n",
    "lo, la = xy_to_lonlat(x, y)\n",
    "print('Montreal center longitude = {}, latitude = {}'.format(lo, la))\n",
    "distance = calc_lonlat_distance(*montreal_boundary)\n",
    "print(f'Distance from most southwest point to most northeast point in Montreal is {distance} meters.')\n",
    "mtl_min_x, mtl_min_y = lonlat_to_xy(montreal_boundary[0], montreal_boundary[1])\n",
    "mtl_max_x, mtl_max_y = lonlat_to_xy(montreal_boundary[2], montreal_boundary[3])\n",
    "print(f'Distance from west to east in Montreal is {mtl_max_x-mtl_min_x} meters.')\n",
    "print(f'Distance from north to south in Montreal is {mtl_max_y-mtl_min_y} meters.')"
   ]
  },
  {
   "cell_type": "markdown",
   "id": "9fdd1938-dd66-4531-8f91-368a13704e89",
   "metadata": {},
   "source": [
    "Now we can create a honeycomb grid of cells with regular hexagons. The centers of hexagon are equally distant in one row, and we offset every other row. So that we covers all the areas on the island without spacing among candidate hexagons. And every cell center is same distant from all its neighbors' center.\n",
    "\n",
    "In this project, we define length of side of the hexagon with 1000/√3 meters. From geometric, we can calculate the distance between the centers of two adjacent hexagons in one row which is 1000 meters"
   ]
  },
  {
   "cell_type": "code",
   "execution_count": null,
   "id": "8daa73bd-dd8f-4162-b6af-624f692f2e52",
   "metadata": {},
   "outputs": [],
   "source": [
    "mtl_center_x, mtl_center_y = lonlat_to_xy(montreal_center[1], montreal_center[0]) # City center in Cartesian coordinates\n",
    "montreal_boroughs = geoJson if From_IBM_Cloud else read_geojson(geoJson)\n",
    "\n",
    "k = math.sqrt(3) / 2 # Vertical distance coefficient for hexagon grid cells\n",
    "x_step = 1000        # Distance between adjacent hexagons in the row\n",
    "y_step = x_step * k  # Distance between adjacent hexagons in vertical direction\n",
    "\n",
    "latitudes = []\n",
    "longitudes = []\n",
    "distances_from_downtown = []\n",
    "xs = []\n",
    "ys = []\n",
    "num_columns = int((mtl_max_x - mtl_min_x)/x_step) + 1\n",
    "num_rows = int((mtl_max_y - mtl_min_y)/y_step) + 1\n",
    "for i in range(0, num_rows):\n",
    "    y = mtl_min_y + i * y_step\n",
    "    x_offset = x_step/2 if i%2==0 else 0\n",
    "    for j in range(0, num_columns):\n",
    "        x = mtl_min_x + j * x_step + x_offset\n",
    "        lon, lat = xy_to_lonlat(x, y)\n",
    "        if is_in_geojson(montreal_boroughs, (lon, lat)):\n",
    "            distance = calc_xy_distance(mtl_center_x, mtl_center_y, x, y)\n",
    "            latitudes.append(lat)\n",
    "            longitudes.append(lon)\n",
    "            distances_from_downtown.append(distance)\n",
    "            xs.append(x)\n",
    "            ys.append(y)\n",
    "\n",
    "print(len(latitudes), 'candidate neighborhood centers are generated.')"
   ]
  },
  {
   "cell_type": "markdown",
   "id": "2f85c20f-f6b0-46aa-aec1-a7e84f874bf3",
   "metadata": {},
   "source": [
    "Calculate the boundary of hexagons:"
   ]
  },
  {
   "cell_type": "code",
   "execution_count": null,
   "id": "01a33e3f-f105-4c38-90a3-f48c64ca7f66",
   "metadata": {},
   "outputs": [],
   "source": [
    "import numpy as np\n",
    "import math\n",
    "\n",
    "def get_hexagon_coordinates(centroid_latlon, side_length_in_meters, rotate=False):\n",
    "    # Rotate 90 degree\n",
    "    unit_hexagon_vertices_rotate = np.array([[0, 1], [-math.sqrt(3)/2, 1/2], [-math.sqrt(3)/2, -1/2],\n",
    "                                       [0, -1], [math.sqrt(3)/2, -1/2], [math.sqrt(3)/2, 1/2]])\n",
    "    # Regular hexagon\n",
    "    unit_hexagon_vertices = np.array([[1, 0], [1/2, math.sqrt(3)/2], [-1/2, math.sqrt(3)/2],\n",
    "                                       [-1, 0], [-1/2, -math.sqrt(3)/2], [1/2, -math.sqrt(3)/2]])\n",
    "    x, y = lonlat_to_xy(centroid_latlon[1], centroid_latlon[0])\n",
    "    vertices = unit_hexagon_vertices_rotate if rotate else unit_hexagon_vertices\n",
    "    vertices *= side_length_in_meters\n",
    "    vertices = [xy_to_lonlat(v[0]+x, v[1]+y) for v in vertices]\n",
    "    return vertices     # list of 6 (longitude, latitude) tuples\n",
    "\n",
    "a = x_step/math.sqrt(3)\n",
    "hexagons = []\n",
    "for latlon in zip(latitudes, longitudes):\n",
    "    vertices = get_hexagon_coordinates(latlon, a, True)\n",
    "    hexagons.append(Polygon(vertices))\n",
    "\n",
    "print(len(hexagons), 'candidate hexagon neighborhoods generated.')"
   ]
  },
  {
   "cell_type": "markdown",
   "id": "089c5399-68c3-49ff-b2e2-7d116c5ad64d",
   "metadata": {},
   "source": [
    "Visualize the data we have so far:"
   ]
  },
  {
   "cell_type": "code",
   "execution_count": null,
   "id": "5b938928-40a0-427b-ada0-f8fbc9b56647",
   "metadata": {},
   "outputs": [],
   "source": [
    "# !pip install folium\n",
    "import folium\n",
    "from folium.features import DivIcon\n",
    "\n",
    "def hexagon_style(feature):\n",
    "    return { 'color': 'blue', 'fill': False }\n",
    "def boroughs_style(feature):\n",
    "    return { 'color': 'gray' }\n",
    "\n",
    "center = xy_to_lonlat((mtl_max_x+mtl_min_x)/2, (mtl_max_y+mtl_min_y)/2)\n",
    "map_montreal = folium.Map(location=(center[1], center[0]), zoom_start=11)\n",
    "folium.Marker(montreal_center, popup='Downtown Montreal').add_to(map_montreal)\n",
    "folium.GeoJson(montreal_boroughs, style_function=boroughs_style, name='geojson').add_to(map_montreal)\n",
    "for i, hexagon in enumerate(hexagons):\n",
    "    folium.GeoJson(hexagon.convex_hull, style_function=hexagon_style).add_to(map_montreal)\n",
    "    # folium.map.Marker((hexagon.centroid.y, hexagon.centroid.x),\n",
    "    #                   icon=DivIcon(html=f'<div style=\"font-size: 12pt\">{i}</div>', )\n",
    "    #                  ).add_to(map_montreal)\n",
    "map_montreal"
   ]
  },
  {
   "cell_type": "code",
   "execution_count": 2,
   "id": "982b2856-dec0-4d8e-8def-795ce05803ee",
   "metadata": {
    "tags": []
   },
   "outputs": [],
   "source": [
    "# Use the requests library to download the List of postal codes of Canada: M webpage\n",
    "url = \"https://en.wikipedia.org/wiki/List_of_postal_codes_of_Canada:_M\"\n",
    "html_data = requests.get(url).text\n",
    "\n",
    "# Parse data using beautifulsoup\n",
    "TorontoNeigh_soup = BeautifulSoup(html_data, \"html5lib\")"
   ]
  },
  {
   "cell_type": "markdown",
   "id": "8fe05d13-d5d0-4d45-9b67-4a88a89b968d",
   "metadata": {},
   "source": [
    "Extract all of the tables from the webpage then assign/parse the relevant table"
   ]
  },
  {
   "cell_type": "code",
   "execution_count": null,
   "id": "5baa35a4-e302-4980-a059-af1c82ecaefa",
   "metadata": {
    "tags": []
   },
   "outputs": [],
   "source": [
    "# Find all of the tables using find_all(), determine number of tables and extract relevant index if necessary, print out table with .prettify() and check index of relevant columns for extraction\n",
    "tables_all = TorontoNeigh_soup.find_all('table')\n",
    "#len(tables_all) # Determine how many total tables there are\n",
    "#print(tables_all[0]) # Change index and print to determine which table is the correct one\n",
    "\n",
    "# Make table for Toronto neighborhoods and extract relevant table from TorontoNeigh_soup\n",
    "TorontoNeigh_table=[]\n",
    "TorPost_table=tables_all[0]\n",
    "\n",
    "# Parse the table and assign to relevent columns\n",
    "for row in TorPost_table.findAll('td'):\n",
    "    cell = {}\n",
    "    if row.span.text=='Not assigned':\n",
    "        pass\n",
    "    else:\n",
    "        cell['PostalCode'] = row.p.text[:3]\n",
    "        cell['Borough'] = (row.span.text).split('(')[0]\n",
    "        cell['Neighborhood'] = (((((row.span.text).split('(')[1]).strip(')')).replace(' /',',')).replace(')',' ')).strip(' ')\n",
    "        TorontoNeigh_table.append(cell)\n",
    "\n",
    "# Convert to pandas dataframe and handle\n",
    "TorNeigh_df=pd.DataFrame(TorontoNeigh_table)\n",
    "TorNeigh_df['Borough']=TorNeigh_df['Borough'].replace({'Downtown TorontoStn A PO Boxes25 The Esplanade':'Downtown Toronto Stn A',\n",
    "                                             'East TorontoBusiness reply mail Processing Centre969 Eastern':'East Toronto Business',\n",
    "                                             'EtobicokeNorthwest':'Etobicoke Northwest','East YorkEast Toronto':'East York/East Toronto',\n",
    "                                             'MississaugaCanada Post Gateway Processing Centre':'Mississauga'})\n",
    "TorNeigh_df"
   ]
  },
  {
   "cell_type": "markdown",
   "id": "8c6fa298-9b27-49f3-a431-b483c47c3aed",
   "metadata": {},
   "source": [
    "Get latitude and longitude for the postal codes from csv file provided then merge with neighborhood data on postal code"
   ]
  },
  {
   "cell_type": "code",
   "execution_count": 4,
   "id": "20676f13-1bbd-4667-b342-b052d55eed8a",
   "metadata": {
    "tags": []
   },
   "outputs": [
    {
     "name": "stdout",
     "output_type": "stream",
     "text": [
      "  PostalCode           Borough                      Neighborhood   Latitude  \\\n",
      "0        M3A        North York                         Parkwoods  43.753259   \n",
      "1        M4A        North York                  Victoria Village  43.725882   \n",
      "2        M5A  Downtown Toronto         Regent Park, Harbourfront  43.654260   \n",
      "3        M6A        North York  Lawrence Manor, Lawrence Heights  43.718518   \n",
      "4        M7A      Queen's Park     Ontario Provincial Government  43.662301   \n",
      "\n",
      "   Longitude  \n",
      "0 -79.329656  \n",
      "1 -79.315572  \n",
      "2 -79.360636  \n",
      "3 -79.464763  \n",
      "4 -79.389494  \n",
      "The dataframe has 15 boroughs and 103 neighborhoods.\n"
     ]
    }
   ],
   "source": [
    "with open('Geospatial_Coordinates.csv') as Geo_Coords:\n",
    "    toronto_geodata = pd.read_csv(Geo_Coords)\n",
    "\n",
    "toronto_geodata.rename(columns={'Postal Code':'PostalCode','Latitude':'Latitude','Longitude':'Longitude'}, inplace=True)\n",
    "TorNeighdf_full = pd.merge(TorNeigh_df, toronto_geodata, how='inner', on=[\"PostalCode\"])\n",
    "print(TorNeighdf_full.head())\n",
    "print('The dataframe has {} boroughs and {} neighborhoods.'.format(\n",
    "        len(TorNeighdf_full['Borough'].unique()),\n",
    "        TorNeighdf_full.shape[0]\n",
    "    )\n",
    ")"
   ]
  },
  {
   "cell_type": "markdown",
   "id": "56aba2a7-cc28-4a91-bf62-834619466956",
   "metadata": {},
   "source": [
    "### Set up Foursquare Credentials and get location data for the neighborhoods"
   ]
  },
  {
   "cell_type": "code",
   "execution_count": null,
   "id": "9fca6c3f-6970-4904-bcd4-b3a4398c0b4e",
   "metadata": {},
   "outputs": [],
   "source": [
    "CLIENT_ID = 'YVBPCW4IZS3RXMMLWV03H0H5NHCWTID5DZLMONQ3WAZJ222R' # your Foursquare ID\n",
    "CLIENT_SECRET = 'YYBZ02FFK24FZ1JYIJPCG4M54BL4FZCMLQECPN5RIE4RCPMP' # your Foursquare Secret\n",
    "VERSION = '20180605' # Foursquare API version\n",
    "LIMIT = 100 # A default Foursquare API limit value\n",
    "\n",
    "print('Your credentails:')\n",
    "print('CLIENT_ID: ' + CLIENT_ID)\n",
    "print('CLIENT_SECRET:' + CLIENT_SECRET)"
   ]
  },
  {
   "cell_type": "code",
   "execution_count": null,
   "id": "8f10bf50-9dfc-4c5e-9f70-c85cd4bdb66a",
   "metadata": {},
   "outputs": [],
   "source": [
    "neighborhood_latitude = TorNeighdf_full.loc[3, 'Latitude'] # neighborhood latitude value\n",
    "neighborhood_longitude = TorNeighdf_full.loc[4, 'Longitude'] # neighborhood longitude value\n",
    "\n",
    "neighborhood_name = TorNeighdf_full.loc[2, 'Neighborhood'] # neighborhood name\n",
    "\n",
    "print('Latitude and longitude values of {} are {}, {}.'.format(neighborhood_name, \n",
    "                                                               neighborhood_latitude, \n",
    "                                                               neighborhood_longitude))"
   ]
  },
  {
   "cell_type": "markdown",
   "id": "199b6509-7d60-4d05-9b36-ad8bd34094c4",
   "metadata": {},
   "source": [
    "### Make function and extract venue information for neighborhoods"
   ]
  },
  {
   "cell_type": "code",
   "execution_count": null,
   "id": "21fc58bf-c93b-47d8-924f-8a5ea961ee3b",
   "metadata": {},
   "outputs": [],
   "source": [
    "# Set limit/radius for analysis\n",
    "limit = 100\n",
    "radius = 500\n",
    "\n",
    "grocery_store='4bf58dd8d48988d118951735'\n",
    "organic_grocery='52f2ab2ebcbc57f1066b8b45'\n",
    "health_foodstore='50aa9e744b90af0d42d5de0e'\n",
    "supermarket='52f2ab2ebcbc57f1066b8b46'\n",
    "fruit_vegetablestore='52f2ab2ebcbc57f1066b8b1c'\n",
    "\n",
    "# Create function for getting venue information for all neighborhoods in Toronto\n",
    "def getNearbyVenues(names, latitudes, longitudes, radius):\n",
    "    venues_list=[]\n",
    "    for name, lat, lng in zip(names, latitudes, longitudes):\n",
    "        print(name)\n",
    "\n",
    "        # create the API request URL\n",
    "        url = 'https://api.foursquare.com/v2/venues/explore?&client_id={}&client_secret={}&v={}&ll={},{}&radius={}&limit={}'.format(CLIENT_ID, CLIENT_SECRET, VERSION, lat, lng, radius, limit)\n",
    "\n",
    "        # make the GET request\n",
    "        results = requests.get(url).json()[\"response\"]['groups'][0]['items']\n",
    "\n",
    "        # return only relevant information for each nearby venue\n",
    "        venues_list.append([(name, lat, lng, v['venue']['name'], v['venue']['location']['lat'], v['venue']['location']['lng'], v['venue']['categories'][0]['name']) for v in results])\n",
    "\n",
    "    nearby_venues = pd.DataFrame([item for venue_list in venues_list for item in venue_list])\n",
    "    nearby_venues.columns = ['Neighborhood', 'Neighborhood Latitude', 'Neighborhood Longitude', 'Venue', 'Venue Latitude', 'Venue Longitude', 'Venue Category']\n",
    "    return(nearby_venues)"
   ]
  },
  {
   "cell_type": "code",
   "execution_count": null,
   "id": "d8082ce9-cb15-4a4c-b4fc-3728b53dc707",
   "metadata": {},
   "outputs": [],
   "source": [
    "# Fetch venue information for each neighborhood\n",
    "toronto_venues = getNearbyVenues(names=TorNeighdf_full['Neighborhood'], latitudes=TorNeighdf_full['Latitude'], longitudes=TorNeighdf_full['Longitude'], radius=radius)"
   ]
  },
  {
   "cell_type": "code",
   "execution_count": null,
   "id": "913f0522-cf5e-4676-9742-147a42ecc624",
   "metadata": {},
   "outputs": [],
   "source": [
    "# Check totals, how many unique and how many of venues are in each neighborhood\n",
    "print(toronto_venues.shape)\n",
    "print('There are {} uniques categories.'.format(len(toronto_venues['Venue Category'].unique())))\n",
    "toronto_venues.groupby('Neighborhood').count()"
   ]
  },
  {
   "cell_type": "code",
   "execution_count": null,
   "id": "9651a7d3-db22-4722-93b2-ac72acf99c42",
   "metadata": {},
   "outputs": [],
   "source": [
    "# Get one hot encoding for Toronto venues\n",
    "toronto_onehot = pd.get_dummies(toronto_venues[['Venue Category']], prefix=\"\", prefix_sep=\"\")\n",
    "\n",
    "# add neighborhood column back to dataframe\n",
    "toronto_onehot['Neighborhood'] = toronto_venues['Neighborhood'] \n",
    "\n",
    "# move neighborhood column to the first column\n",
    "fixed_columns = [toronto_onehot.columns[-1]] + list(toronto_onehot.columns[:-1])\n",
    "toronto_onehot = toronto_onehot[fixed_columns]\n",
    "toronto_grouped = toronto_onehot.groupby('Neighborhood').mean().reset_index()"
   ]
  },
  {
   "cell_type": "code",
   "execution_count": null,
   "id": "a2109b73-82e4-4c3d-a79c-1f47c3804376",
   "metadata": {},
   "outputs": [],
   "source": [
    "# Create function to get the most common venues\n",
    "def return_most_common_venues(row, num_top_venues):\n",
    "    row_categories = row.iloc[1:]\n",
    "    row_categories_sorted = row_categories.sort_values(ascending=False)\n",
    "    return row_categories_sorted.index.values[0:num_top_venues]\n",
    "\n",
    "# Find top 10 most common venues for each neighborhoods\n",
    "num_top_venues = 10\n",
    "indicators = ['st', 'nd', 'rd']\n",
    "\n",
    "# create columns according to number of top venues\n",
    "columns = ['Neighborhood']\n",
    "for ind in np.arange(num_top_venues):\n",
    "    try:\n",
    "        columns.append('{}{} Most Common Venue'.format(ind+1, indicators[ind])) # for 1st, 2nd, 3rd\n",
    "    except:\n",
    "        columns.append('{}th Most Common Venue'.format(ind+1)) # for the rest\n",
    "\n",
    "# create a new dataframe\n",
    "neighborhoods_venues_sorted = pd.DataFrame(columns=columns)\n",
    "neighborhoods_venues_sorted['Neighborhood'] = toronto_grouped['Neighborhood']\n",
    "\n",
    "for ind in np.arange(toronto_grouped.shape[0]):\n",
    "    neighborhoods_venues_sorted.iloc[ind, 1:] = return_most_common_venues(toronto_grouped.iloc[ind, :], num_top_venues)\n",
    "neighborhoods_venues_sorted.head()\n",
    "\n",
    "toronto_grouped_clustering = toronto_grouped.drop('Neighborhood', 1)"
   ]
  },
  {
   "cell_type": "code",
   "execution_count": null,
   "id": "fac65e3d-582e-48e3-b1fc-6fd9d7e8f8c2",
   "metadata": {},
   "outputs": [],
   "source": []
  },
  {
   "cell_type": "markdown",
   "id": "615f7c39-c7de-4f73-8a1b-0de5421c554b",
   "metadata": {},
   "source": [
    "## Methods"
   ]
  },
  {
   "cell_type": "code",
   "execution_count": null,
   "id": "fba6c963-3c11-464c-8082-859e0ab6b064",
   "metadata": {},
   "outputs": [],
   "source": []
  },
  {
   "cell_type": "markdown",
   "id": "ef0de814-3cb5-4100-b56b-300d7c3a469d",
   "metadata": {},
   "source": [
    "## Results"
   ]
  },
  {
   "cell_type": "code",
   "execution_count": null,
   "id": "1f1a7970-283f-4fd4-b828-e1bc7f9e1fb7",
   "metadata": {},
   "outputs": [],
   "source": []
  },
  {
   "cell_type": "code",
   "execution_count": null,
   "id": "e21ff678-a9a3-4e95-8b46-dea378edc7f5",
   "metadata": {},
   "outputs": [],
   "source": []
  },
  {
   "cell_type": "code",
   "execution_count": null,
   "id": "e4f98f90-e292-4ecb-9acf-8d9d9f7b033b",
   "metadata": {},
   "outputs": [],
   "source": []
  },
  {
   "cell_type": "markdown",
   "id": "6fda5cf1-b197-4298-afe3-2606b26d514e",
   "metadata": {},
   "source": [
    "### Analyze Denver Neighborhoods"
   ]
  },
  {
   "cell_type": "markdown",
   "id": "3bc49000-3c05-43e2-977b-16b024392c4c",
   "metadata": {},
   "source": [
    "### Run elbow method to determine optimal number of clusters"
   ]
  },
  {
   "cell_type": "code",
   "execution_count": null,
   "id": "adb6eedc-b7d5-4709-a64c-cfb59d64fe7f",
   "metadata": {},
   "outputs": [],
   "source": [
    "# Import yellowbrick wrapper for sklearn and ElbowVisualizer/Silhouette plotters\n",
    "#!pip install -U yellowbrick\n",
    "from yellowbrick.cluster import KElbowVisualizer, SilhouetteVisualizer\n",
    "model = KMeans()\n",
    "\n",
    "# k is range of number of clusters.\n",
    "visualizer = KElbowVisualizer(model, k=(1,12), timings=False, random_state=4)\n",
    "visualizer.fit(toronto_grouped_clustering)        # Fit the data to the visualizer\n",
    "visualizer.show()        # Finalize and render the figure"
   ]
  },
  {
   "cell_type": "code",
   "execution_count": null,
   "id": "798ce556-ba3c-4828-8d9f-ae6ff70125c0",
   "metadata": {},
   "outputs": [],
   "source": [
    "# set number of clusters, graph isn't great for discernment but going ahead with k=6 anyway\n",
    "kclusters = 6\n",
    "\n",
    "# run k-means clustering\n",
    "kmeans = KMeans(n_clusters=kclusters, random_state=4).fit(toronto_grouped_clustering)\n",
    "\n",
    "# check cluster labels generated for each row in the dataframe\n",
    "kmeans.labels_[0:10]\n",
    "\n",
    "# add clustering labels\n",
    "neighborhoods_venues_sorted.insert(0, 'Cluster Labels', kmeans.labels_)\n",
    "toronto_merged = TorNeighdf_full\n",
    "\n",
    "# merge toronto_grouped with TorNeighdf_full to add latitude/longitude for each neighborhood\n",
    "toronto_merged = toronto_merged.join(neighborhoods_venues_sorted.set_index('Neighborhood'), on='Neighborhood')\n",
    "\n",
    "# remove rows with NaN as cluster label and assign int to the cluster labels rather than float\n",
    "toronto_merged.dropna(axis=0, how='any', subset=['Cluster Labels'], inplace=True)\n",
    "toronto_merged['Cluster Labels']= toronto_merged['Cluster Labels'].astype(int)\n",
    "toronto_merged.head() # check the last columns!"
   ]
  },
  {
   "cell_type": "code",
   "execution_count": null,
   "id": "693defe9-ca5e-489f-bbf9-7553fbefedcc",
   "metadata": {},
   "outputs": [],
   "source": [
    "# create map\n",
    "map_clusters = folium.Map(location=[latitude, longitude], zoom_start=11)\n",
    "\n",
    "# set color scheme for the clusters\n",
    "x = np.arange(kclusters)\n",
    "ys = [i + x + (i*x)**2 for i in range(kclusters)]\n",
    "colors_array = cm.rainbow(np.linspace(0, 1, len(ys)))\n",
    "rainbow = [colors.rgb2hex(i) for i in colors_array]\n",
    "\n",
    "# add markers to the map\n",
    "markers_colors = []\n",
    "for lat, lon, poi, cluster in zip(toronto_merged['Latitude'], toronto_merged['Longitude'], toronto_merged['Neighborhood'], toronto_merged['Cluster Labels']):\n",
    "    label = folium.Popup(str(poi) + ' Cluster ' + str(cluster), parse_html=True)\n",
    "    folium.CircleMarker(\n",
    "        [lat, lon],\n",
    "        radius=5,\n",
    "        popup=label,\n",
    "        color=rainbow[cluster-1],\n",
    "        fill=True,\n",
    "        fill_color=rainbow[cluster-1],\n",
    "        fill_opacity=0.7).add_to(map_clusters)\n",
    "\n",
    "map_clusters"
   ]
  },
  {
   "cell_type": "code",
   "execution_count": null,
   "id": "2e257b93-560a-4f3b-84a3-9cef416fd898",
   "metadata": {},
   "outputs": [],
   "source": [
    "### Examine Clusters"
   ]
  },
  {
   "cell_type": "code",
   "execution_count": null,
   "id": "0eca44d8-9441-48f6-8e9a-b103fce271d0",
   "metadata": {},
   "outputs": [],
   "source": [
    "toronto_merged.loc[toronto_merged['Cluster Labels'] == 0, toronto_merged.columns[[2] + list(range(5, toronto_merged.shape[1]))]]"
   ]
  }
 ],
 "metadata": {
  "kernelspec": {
   "display_name": "Python",
   "language": "python",
   "name": "conda-env-python-py"
  },
  "language_info": {
   "codemirror_mode": {
    "name": "ipython",
    "version": 3
   },
   "file_extension": ".py",
   "mimetype": "text/x-python",
   "name": "python",
   "nbconvert_exporter": "python",
   "pygments_lexer": "ipython3",
   "version": "3.6.13"
  }
 },
 "nbformat": 4,
 "nbformat_minor": 5
}
